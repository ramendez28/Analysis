{
 "cells": [
  {
   "cell_type": "markdown",
   "metadata": {},
   "source": [
    "# All the includes for the NoteBook"
   ]
  },
  {
   "cell_type": "code",
   "execution_count": 40,
   "metadata": {},
   "outputs": [],
   "source": [
    "import IO\n",
    "import ROOT\n",
    "import torch\n",
    "from torch_geometric.data import Data, DataLoader \n",
    "import networkx as nx\n",
    "import matplotlib.pyplot as plt\n",
    "import numpy as np\n",
    "import dgl\n",
    "import PyGeometric_Function as PF\n",
    "import Trivial_Functions as TF\n",
    "import Plotting_Functions as PLT"
   ]
  },
  {
   "cell_type": "markdown",
   "metadata": {},
   "source": [
    "# Collect the data in a dictionary format"
   ]
  },
  {
   "cell_type": "code",
   "execution_count": 42,
   "metadata": {},
   "outputs": [],
   "source": [
    "f = ROOT.TFile(\"Data/W_to_lepton.root\")\n",
    "Particle_Maps = IO.ReadRootFile(f)\n",
    "IO.VerifyProcess(Particle_Maps, 0)\n",
    "Map = IO.CreateFeatureDictionary(Particle_Maps)"
   ]
  },
  {
   "cell_type": "markdown",
   "metadata": {},
   "source": [
    "# Create the Graph we wish to train on "
   ]
  },
  {
   "cell_type": "code",
   "execution_count": 43,
   "metadata": {},
   "outputs": [],
   "source": [
    "edge_index = torch.tensor([[0, 0, 1, 1, 2, 2], [1, 2, 0, 2, 0, 1]], dtype = torch.long)"
   ]
  },
  {
   "cell_type": "markdown",
   "metadata": {},
   "source": [
    "# Populate the Graph with Edge and Node Feature Data"
   ]
  },
  {
   "cell_type": "code",
   "execution_count": 4,
   "metadata": {},
   "outputs": [],
   "source": [
    "data_list = []\n",
    "\n",
    "for i in range(len(Map[\"WPx\"])):\n",
    "    # Create the tensors of the individual features\n",
    "    # Node features\n",
    "    W_Node = [Map[\"WPx\"][i], Map[\"WPy\"][i], Map[\"WPz\"][i], Map[\"WE\"][i], Map[\"WM\"][i], Map[\"WC\"][i]]\n",
    "\n",
    "    e_Node = [Map[\"ePx\"][i], Map[\"ePy\"][i], Map[\"ePz\"][i], Map[\"eE\"][i], Map[\"eM\"][i], Map[\"eC\"][i]]\n",
    "    ve_Node = [Map[\"vePx\"][i], Map[\"vePy\"][i], Map[\"vePz\"][i], Map[\"veE\"][i], Map[\"veM\"][i], Map[\"veC\"][i]]\n",
    "    \n",
    "    # Edge features \n",
    "    W_e = [Map[\"W_e\"][i], Map[\"W_e_C\"][i]]\n",
    "    W_ve = [Map[\"W_ve\"][i], Map[\"W_ve_C\"][i]]\n",
    "    e_ve = [Map[\"e_ve\"][i], Map[\"e_ve_C\"][i]]\n",
    "    \n",
    "    Node_feat = torch.tensor([W_Node, e_Node, ve_Node], dtype = torch.float)\n",
    "    Edge_feat = torch.tensor([W_e, W_ve, W_e, e_ve, W_ve, e_ve], dtype = torch.float) \n",
    "\n",
    "    data = Data(x = Node_feat, edge_index = edge_index, edge_attr = Edge_feat)\n",
    "    data_list.append(data)\n",
    "\n",
    "    \n",
    "loader = DataLoader(data_list)"
   ]
  },
  {
   "cell_type": "markdown",
   "metadata": {},
   "source": [
    "# Give DGL the Graph Structure with Data"
   ]
  },
  {
   "cell_type": "code",
   "execution_count": 30,
   "metadata": {},
   "outputs": [],
   "source": [
    "# nxg = nx.DiGraph()\n",
    "# nxg.add_node(0, id = 0, n1 = [Map[\"WPx\"][0], Map[\"WPy\"][0], Map[\"WPz\"][0], Map[\"WE\"][0], Map[\"WM\"][0], Map[\"WC\"][0]])\n",
    "# nxg.add_node(1, id = 1, n1 = [Map[\"ePx\"][0], Map[\"ePy\"][0], Map[\"ePz\"][0], Map[\"eE\"][0], Map[\"eM\"][0], Map[\"eC\"][0]])\n",
    "# nxg.add_node(2, id = 2, n1 = [Map[\"vePx\"][0], Map[\"vePy\"][0], Map[\"vePz\"][0], Map[\"veE\"][0], Map[\"veM\"][0], Map[\"veC\"][0]])\n",
    "# nxg.add_edge(0, 1, id=0, e1 = [Map[\"W_e\"][0], Map[\"W_e_C\"][0]])\n",
    "# nxg.add_edge(0, 2, id=0, e1 = [Map[\"W_ve\"][0], Map[\"W_ve_C\"][0]])\n",
    "# nxg.add_edge(1, 0, id=1, e1 = [Map[\"W_e\"][0], Map[\"W_e_C\"][0]])\n",
    "# nxg.add_edge(1, 2, id=1, e1 = [Map[\"e_ve\"][0], Map[\"e_ve_C\"][0]])\n",
    "# nxg.add_edge(2, 0, id=2, e1 = [Map[\"W_ve\"][0], Map[\"W_ve_C\"][0]])\n",
    "# nxg.add_edge(2, 1, id=2, e1 = [Map[\"e_ve\"][0], Map[\"e_ve_C\"][0]])\n",
    "# G = dgl.from_networkx(nxg, edge_attrs = [\"e1\"], node_attrs = [\"n1\"])\n",
    "\n",
    "nxg = nx.DiGraph()\n",
    "nxg.add_node(0, id = 0)\n",
    "nxg.add_node(1, id = 1)\n",
    "nxg.add_node(2, id = 2)\n",
    "nxg.add_edge(0, 1, id=0)\n",
    "nxg.add_edge(0, 2, id=0)\n",
    "nxg.add_edge(1, 0, id=1)\n",
    "nxg.add_edge(1, 2, id=1)\n",
    "nxg.add_edge(2, 0, id=2)\n",
    "nxg.add_edge(2, 1, id=2)\n",
    "\n",
    "G = dgl.from_networkx(nxg)\n",
    "G.ndata[\"n1\"] = torch.tensor([Map[\"WC\"], Map[\"eC\"], Map[\"veC\"]], dtype = torch.float) "
   ]
  },
  {
   "cell_type": "code",
   "execution_count": 35,
   "metadata": {},
   "outputs": [],
   "source": [
    "node_features = G.ndata[\"n1\"]\n",
    "n_features = node_features.size(1)"
   ]
  },
  {
   "cell_type": "code",
   "execution_count": 36,
   "metadata": {},
   "outputs": [],
   "source": [
    "k = 1"
   ]
  },
  {
   "cell_type": "code",
   "execution_count": 37,
   "metadata": {},
   "outputs": [],
   "source": [
    "model = PF.Model(n_features, n_features, 1)\n",
    "opt = torch.optim.Adam(model.parameters())\n",
    "\n",
    "for epoch in range(100):\n",
    "    negative_graph = PF.construct_negative_graph(G, k)\n",
    "    pos_score, neg_score = model(G, negative_graph, node_features)\n",
    "    loss = PF.compute_loss(pos_score, neg_score)\n",
    "    opt.zero_grad()\n",
    "    loss.backward()\n",
    "    opt.step()"
   ]
  },
  {
   "cell_type": "code",
   "execution_count": 38,
   "metadata": {},
   "outputs": [
    {
     "data": {
      "image/png": "[encoded data removed]",
      "text/plain": [
       "<Figure size 432x288 with 1 Axes>"
      ]
     },
     "metadata": {},
     "output_type": "display_data"
    }
   ],
   "source": [
    "node_embeddings = model.sage(G, node_features)\n",
    "\n",
    "Node_1_2 = TF.CalculateLinkProbability(node_embeddings[0], node_embeddings[1])\n",
    "Node_1_3 = TF.CalculateLinkProbability(node_embeddings[0], node_embeddings[2])\n",
    "Node_2_1 = TF.CalculateLinkProbability(node_embeddings[1], node_embeddings[0])\n",
    "Node_2_3 = TF.CalculateLinkProbability(node_embeddings[1], node_embeddings[2])\n",
    "Node_3_1 = TF.CalculateLinkProbability(node_embeddings[2], node_embeddings[0])\n",
    "Node_3_2 = TF.CalculateLinkProbability(node_embeddings[2], node_embeddings[1])\n",
    "\n",
    "\n",
    "edge_index = torch.tensor([[0, 0, 1, 1, 2, 2], [1, 2, 0, 2, 0, 1]], dtype = torch.long)\n",
    "edge_weights = [Node_1_2, Node_1_3, Node_2_1, Node_2_3, Node_3_1, Node_3_2];\n",
    "\n",
    "PLT.CreateGraphOutput(edge_index, edge_weights)\n",
    "\n",
    "\n"
   ]
  },
  {
   "cell_type": "code",
   "execution_count": null,
   "metadata": {},
   "outputs": [],
   "source": []
  },
  {
   "cell_type": "code",
   "execution_count": null,
   "metadata": {},
   "outputs": [],
   "source": []
  }
 ],
 "metadata": {
  "kernelspec": {
   "display_name": "Python 3",
   "language": "python",
   "name": "python3"
  },
  "language_info": {
   "codemirror_mode": {
    "name": "ipython",
    "version": 3
   },
   "file_extension": ".py",
   "mimetype": "text/x-python",
   "name": "python",
   "nbconvert_exporter": "python",
   "pygments_lexer": "ipython3",
   "version": "3.8.5"
  }
 },
 "nbformat": 4,
 "nbformat_minor": 4
}
