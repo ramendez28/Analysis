{
 "cells": [
  {
   "cell_type": "markdown",
   "metadata": {},
   "source": [
    "# Check the ROOT IO File"
   ]
  },
  {
   "cell_type": "code",
   "execution_count": 1,
   "metadata": {},
   "outputs": [
    {
     "name": "stdout",
     "output_type": "stream",
     "text": [
      "Welcome to JupyROOT 6.22/06\n"
     ]
    }
   ],
   "source": [
    "import ClosureTests.Test_IO as IO"
   ]
  },
  {
   "cell_type": "code",
   "execution_count": 2,
   "metadata": {},
   "outputs": [
    {
     "name": "stdout",
     "output_type": "stream",
     "text": [
      "Running Test_ReadRooFile\n"
     ]
    },
    {
     "name": "stderr",
     "output_type": "stream",
     "text": [
      "Warning in <TClass::Init>: no dictionary for class TRootLHEFEvent is available\n",
      "Warning in <TClass::Init>: no dictionary for class TRootWeight is available\n",
      "Warning in <TClass::Init>: no dictionary for class TRootLHEFParticle is available\n",
      "Warning in <TClass::Init>: no dictionary for class TSortableObject is available\n"
     ]
    }
   ],
   "source": [
    "IO.Test_ReadRootFile(\"Data/W_to_lepton.root\")"
   ]
  },
  {
   "cell_type": "code",
   "execution_count": 3,
   "metadata": {},
   "outputs": [
    {
     "name": "stdout",
     "output_type": "stream",
     "text": [
      "Running Test_EventMapGenerator\n",
      "g g -> t t~ t t~ -> W+ W- W+ W- e+ ve b mu+ vmu b e- ve~ b~ e- ve~ b~ \n",
      "------\n",
      "{'Px': -0.0, 'Py': -0.0, 'Pz': -418.69261214, 'E': 418.69261214, 'M': 0.0, 'PID': 21.0, 'Status': -1.0, 'Mother1': -1.0, 'Mother2': -1.0, 'Decay_Linker': -2}\n",
      "{'Px': 0.0, 'Py': 0.0, 'Pz': 524.61211518, 'E': 524.61211518, 'M': 0.0, 'PID': 21.0, 'Status': -1.0, 'Mother1': -1.0, 'Mother2': -1.0, 'Decay_Linker': -2}\n",
      "------\n",
      "{'Px': -55.482051947, 'Py': 85.513033582, 'Pz': -24.766048312, 'E': 104.90040109, 'M': 0.0, 'PID': 12.0, 'Status': 1.0, 'Mother1': 3.0, 'Mother2': 3.0, 'Decay_Linker': -1}\n",
      "{'Px': -0.13114837941, 'Py': -4.0292976125, 'Pz': -35.462537185, 'E': 35.690950996, 'M': 0.000511, 'PID': -11.0, 'Status': 1.0, 'Mother1': 3.0, 'Mother2': 3.0, 'Decay_Linker': -1}\n",
      "{'Px': 69.921931334, 'Py': 109.19548814, 'Pz': -89.881539703, 'E': 157.8401479, 'M': 4.7, 'PID': 5.0, 'Status': 1.0, 'Mother1': 2.0, 'Mother2': 2.0, 'Decay_Linker': -1}\n",
      "{'Px': -55.613200327, 'Py': 81.483735969, 'Pz': -60.228585497, 'E': 140.59135209, 'M': 80.037606744, 'PID': 24.0, 'Status': 2.0, 'Mother1': 2.0, 'Mother2': 2.0, 'Decay_Linker': 1}\n",
      "{'Px': 14.308731007, 'Py': 190.67922411, 'Pz': -150.1101252, 'E': 298.43149999, 'M': 173.10402714, 'PID': 6.0, 'Status': 2.0, 'Mother1': 0.0, 'Mother2': 1.0, 'Decay_Linker': 1}\n",
      "------\n",
      "{'Px': 19.985306254, 'Py': 72.436943917, 'Pz': 44.348950765, 'E': 87.254528502, 'M': 0.0, 'PID': -12.0, 'Status': 1.0, 'Mother1': 5.0, 'Mother2': 5.0, 'Decay_Linker': -1}\n",
      "{'Px': -10.979759236, 'Py': -13.943707518, 'Pz': -8.0679246571, 'E': 19.495473853, 'M': 0.000511, 'PID': 11.0, 'Status': 1.0, 'Mother1': 5.0, 'Mother2': 5.0, 'Decay_Linker': -1}\n",
      "{'Px': -20.547633517, 'Py': -49.943067234, 'Pz': -7.1278299716, 'E': 54.675507935, 'M': 4.7, 'PID': -5.0, 'Status': 1.0, 'Mother1': 4.0, 'Mother2': 4.0, 'Decay_Linker': -1}\n",
      "{'Px': 9.0055470178, 'Py': 58.493236399, 'Pz': 36.281026108, 'E': 106.75000236, 'M': 81.096803673, 'PID': -24.0, 'Status': 2.0, 'Mother1': 4.0, 'Mother2': 4.0, 'Decay_Linker': 2}\n",
      "{'Px': -11.542086499, 'Py': 8.5501691647, 'Pz': 29.153196136, 'E': 161.42551029, 'M': 158.1200853, 'PID': -6.0, 'Status': 2.0, 'Mother1': 0.0, 'Mother2': 1.0, 'Decay_Linker': 2}\n",
      "------\n",
      "{'Px': 75.681438264, 'Py': -149.85754996, 'Pz': 135.82916842, 'E': 215.95029144, 'M': 0.0, 'PID': 14.0, 'Status': 1.0, 'Mother1': 7.0, 'Mother2': 7.0, 'Decay_Linker': -1}\n",
      "{'Px': -16.713273865, 'Py': -10.021891022, 'Pz': 8.1021127019, 'E': 21.105146699, 'M': 0.10566, 'PID': -13.0, 'Status': 1.0, 'Mother1': 7.0, 'Mother2': 7.0, 'Decay_Linker': -1}\n",
      "{'Px': -44.165374996, 'Py': -0.87616900352, 'Pz': 61.002503892, 'E': 75.463524313, 'M': 4.7, 'PID': 5.0, 'Status': 1.0, 'Mother1': 6.0, 'Mother2': 6.0, 'Decay_Linker': -1}\n",
      "{'Px': 58.968164399, 'Py': -159.87944099, 'Pz': 143.93128112, 'E': 237.05543814, 'M': 80.2520218, 'PID': 24.0, 'Status': 2.0, 'Mother1': 6.0, 'Mother2': 6.0, 'Decay_Linker': 3}\n",
      "{'Px': 14.802789403, 'Py': -160.75560999, 'Pz': 204.93378501, 'E': 312.51896245, 'M': 172.07195278, 'PID': 6.0, 'Status': 2.0, 'Mother1': 0.0, 'Mother2': 1.0, 'Decay_Linker': 3}\n",
      "------\n",
      "{'Px': -16.950083826, 'Py': -13.228191308, 'Pz': -28.392808768, 'E': 35.61519306, 'M': 0.0, 'PID': -12.0, 'Status': 1.0, 'Mother1': 9.0, 'Mother2': 9.0, 'Decay_Linker': -1}\n",
      "{'Px': 11.148822837, 'Py': -73.292862307, 'Pz': 41.11954331, 'E': 84.775920862, 'M': 0.000511, 'PID': 11.0, 'Status': 1.0, 'Mother1': 9.0, 'Mother2': 9.0, 'Decay_Linker': -1}\n",
      "{'Px': -11.768172922, 'Py': 48.047270334, 'Pz': 9.2159125532, 'E': 50.537640672, 'M': 4.7, 'PID': -5.0, 'Status': 1.0, 'Mother1': 8.0, 'Mother2': 8.0, 'Decay_Linker': -1}\n",
      "{'Px': -5.8012609889, 'Py': -86.521053615, 'Pz': 12.726734542, 'E': 120.39111392, 'M': 82.537889431, 'PID': -24.0, 'Status': 2.0, 'Mother1': 8.0, 'Mother2': 8.0, 'Decay_Linker': 4}\n",
      "{'Px': -17.569433911, 'Py': -38.473783281, 'Pz': 21.942647096, 'E': 170.92875459, 'M': 164.15310651, 'PID': -6.0, 'Status': 2.0, 'Mother1': 0.0, 'Mother2': 1.0, 'Decay_Linker': 4}\n"
     ]
    }
   ],
   "source": [
    "IO.Test_EventMapGenerator(\"Data/ExampleMC4Tops.root\")"
   ]
  },
  {
   "cell_type": "code",
   "execution_count": null,
   "metadata": {},
   "outputs": [],
   "source": []
  }
 ],
 "metadata": {
  "kernelspec": {
   "display_name": "Python 3",
   "language": "python",
   "name": "python3"
  },
  "language_info": {
   "codemirror_mode": {
    "name": "ipython",
    "version": 3
   },
   "file_extension": ".py",
   "mimetype": "text/x-python",
   "name": "python",
   "nbconvert_exporter": "python",
   "pygments_lexer": "ipython3",
   "version": "3.8.5"
  }
 },
 "nbformat": 4,
 "nbformat_minor": 4
}
