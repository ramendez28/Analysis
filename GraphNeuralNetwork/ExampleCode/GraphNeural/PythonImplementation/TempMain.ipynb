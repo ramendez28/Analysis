{
 "cells": [
  {
   "cell_type": "markdown",
   "metadata": {},
   "source": [
    "# Check the ROOT IO File"
   ]
  },
  {
   "cell_type": "code",
   "execution_count": 1,
   "metadata": {},
   "outputs": [
    {
     "name": "stdout",
     "output_type": "stream",
     "text": [
      "Welcome to JupyROOT 6.22/06\n"
     ]
    }
   ],
   "source": [
    "import ClosureTests.Test_IO as IO"
   ]
  },
  {
   "cell_type": "code",
   "execution_count": 2,
   "metadata": {},
   "outputs": [
    {
     "name": "stdout",
     "output_type": "stream",
     "text": [
      "Running Test_ReadRooFile\n"
     ]
    },
    {
     "name": "stderr",
     "output_type": "stream",
     "text": [
      "Warning in <TClass::Init>: no dictionary for class TRootLHEFEvent is available\n",
      "Warning in <TClass::Init>: no dictionary for class TRootWeight is available\n",
      "Warning in <TClass::Init>: no dictionary for class TRootLHEFParticle is available\n",
      "Warning in <TClass::Init>: no dictionary for class TSortableObject is available\n"
     ]
    }
   ],
   "source": [
    "IO.Test_ReadRootFile(\"Data/W_to_lepton.root\")"
   ]
  },
  {
   "cell_type": "code",
   "execution_count": 3,
   "metadata": {},
   "outputs": [
    {
     "name": "stdout",
     "output_type": "stream",
     "text": [
      "Running Test_EventMapGenerator\n",
      "g g -> t t~ \n",
      "u u~ -> t t~ \n",
      "g g -> t t~ \n",
      "g g -> t t~ \n",
      "g g -> t t~ \n",
      " g g->  t t~;;\n",
      " u u~->  t t~;;\n",
      " g g->  t t~;;\n",
      " g g->  t t~;;\n",
      " g g->  t t~;;\n"
     ]
    }
   ],
   "source": [
    "IO.Test_EventMapGenerator(\"Data/H_a_a.root\")"
   ]
  },
  {
   "cell_type": "code",
   "execution_count": 4,
   "metadata": {},
   "outputs": [
    {
     "name": "stdout",
     "output_type": "stream",
     "text": [
      "Running Test_EventMapGenerator\n",
      "g g -> t t~ t t~ -> W+ W- W+ W- e+ ve b mu+ vmu b e- ve~ b~ e- ve~ b~ \n",
      "g g -> t t~ t~ t -> W+ W- W- W+ mu+ vmu b mu+ vmu b e- ve~ b~ e- ve~ b~ \n",
      "g g -> t~ t t t~ -> W- W+ W+ W- mu+ vmu b mu+ vmu b e- ve~ b~ e- ve~ b~ \n",
      "g g -> t t~ t t~ -> W+ W- W+ W- e+ ve b mu+ vmu b e- ve~ b~ e- ve~ b~ \n",
      "g g -> t t~ t~ t -> W+ W- W- W+ e+ ve b mu+ vmu b e- ve~ b~ e- ve~ b~ \n",
      " g g->  t t~ t t~; (t -> W+ ->  e+ ve) (t -> b ); (t~ -> W- ->  e- ve~) (t~ -> b~ ); (t -> W+ ->  mu+ vmu) (t -> b ); (t~ -> W- ->  e- ve~) (t~ -> b~ )\n",
      " g g->  t t~ t~ t; (t -> W+ ->  mu+ vmu) (t -> b ); (t~ -> W- ->  e- ve~) (t~ -> b~ ); (t~ -> W- ->  e- ve~) (t~ -> b~ ); (t -> W+ ->  mu+ vmu) (t -> b )\n",
      " g g->  t~ t t t~; (t~ -> W- ->  e- ve~) (t~ -> b~ ); (t -> W+ ->  mu+ vmu) (t -> b ); (t -> W+ ->  mu+ vmu) (t -> b ); (t~ -> W- ->  e- ve~) (t~ -> b~ )\n",
      " g g->  t t~ t t~; (t -> W+ ->  mu+ vmu) (t -> b ); (t~ -> W- ->  e- ve~) (t~ -> b~ ); (t -> W+ ->  e+ ve) (t -> b ); (t~ -> W- ->  e- ve~) (t~ -> b~ )\n",
      " g g->  t t~ t~ t; (t -> W+ ->  mu+ vmu) (t -> b ); (t~ -> W- ->  e- ve~) (t~ -> b~ ); (t~ -> W- ->  e- ve~) (t~ -> b~ ); (t -> W+ ->  e+ ve) (t -> b )\n"
     ]
    }
   ],
   "source": [
    "IO.Test_EventMapGenerator(\"Data/ExampleMC4Tops.root\")"
   ]
  },
  {
   "cell_type": "code",
   "execution_count": 5,
   "metadata": {},
   "outputs": [
    {
     "name": "stdout",
     "output_type": "stream",
     "text": [
      "Running Test_EventMapGenerator\n",
      "W+ -> e+ ve \n",
      "W+ -> mu+ vmu \n",
      "W+ -> e+ ve \n",
      "W+ -> e+ ve \n",
      "W+ -> mu+ vmu \n",
      " W+->  e+ ve;;\n",
      " W+->  mu+ vmu;;\n",
      " W+->  e+ ve;;\n",
      " W+->  e+ ve;;\n",
      " W+->  mu+ vmu;;\n"
     ]
    }
   ],
   "source": [
    "IO.Test_EventMapGenerator(\"Data/W_to_lepton.root\")"
   ]
  }
 ],
 "metadata": {
  "kernelspec": {
   "display_name": "Python 3",
   "language": "python",
   "name": "python3"
  },
  "language_info": {
   "codemirror_mode": {
    "name": "ipython",
    "version": 3
   },
   "file_extension": ".py",
   "mimetype": "text/x-python",
   "name": "python",
   "nbconvert_exporter": "python",
   "pygments_lexer": "ipython3",
   "version": "3.8.5"
  }
 },
 "nbformat": 4,
 "nbformat_minor": 4
}
