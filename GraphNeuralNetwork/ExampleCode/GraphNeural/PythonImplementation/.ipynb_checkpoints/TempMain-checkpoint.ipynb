{
 "cells": [
  {
   "cell_type": "markdown",
   "metadata": {},
   "source": [
    "# Check the ROOT IO File"
   ]
  },
  {
   "cell_type": "code",
   "execution_count": 1,
   "metadata": {},
   "outputs": [
    {
     "name": "stdout",
     "output_type": "stream",
     "text": [
      "Welcome to JupyROOT 6.22/06\n"
     ]
    }
   ],
   "source": [
    "import ClosureTests.Test_IO as IO"
   ]
  },
  {
   "cell_type": "code",
   "execution_count": 2,
   "metadata": {},
   "outputs": [
    {
     "name": "stdout",
     "output_type": "stream",
     "text": [
      "Running Test_ReadRooFile\n"
     ]
    },
    {
     "name": "stderr",
     "output_type": "stream",
     "text": [
      "Warning in <TClass::Init>: no dictionary for class TRootLHEFEvent is available\n",
      "Warning in <TClass::Init>: no dictionary for class TRootWeight is available\n",
      "Warning in <TClass::Init>: no dictionary for class TRootLHEFParticle is available\n",
      "Warning in <TClass::Init>: no dictionary for class TSortableObject is available\n"
     ]
    }
   ],
   "source": [
    "IO.Test_ReadRootFile(\"Data/W_to_lepton.root\")"
   ]
  },
  {
   "cell_type": "code",
   "execution_count": 3,
   "metadata": {},
   "outputs": [
    {
     "name": "stdout",
     "output_type": "stream",
     "text": [
      "Running Test_EventMapGenerator\n",
      "g g -> t t~ \n",
      "------\n",
      "{'Px': 0.0, 'Py': 0.0, 'Pz': 195.32004905, 'E': 195.32004905, 'M': 0.0, 'PID': 21.0, 'Status': -1.0, 'Mother1': -1.0, 'Mother2': -1.0, 'Decay_Linker': -2}\n",
      "{'Px': -0.0, 'Py': -0.0, 'Pz': -412.64966048, 'E': 412.64966048, 'M': 0.0, 'PID': 21.0, 'Status': -1.0, 'Mother1': -1.0, 'Mother2': -1.0, 'Decay_Linker': -2}\n",
      "------\n",
      "{'Px': 182.86579144, 'Py': -7.5957812806, 'Pz': 31.648943926, 'E': 253.82720348, 'M': 173.0, 'PID': 6.0, 'Status': 1.0, 'Mother1': 0.0, 'Mother2': 1.0, 'Decay_Linker': 1}\n",
      "------\n",
      "{'Px': -182.86579144, 'Py': 7.5957812806, 'Pz': -248.97855535, 'E': 354.14250605, 'M': 173.0, 'PID': -6.0, 'Status': 1.0, 'Mother1': 0.0, 'Mother2': 1.0, 'Decay_Linker': 2}\n"
     ]
    }
   ],
   "source": [
    "IO.Test_EventMapGenerator(\"Data/ExampleMC4Tops.root\")"
   ]
  },
  {
   "cell_type": "code",
   "execution_count": null,
   "metadata": {},
   "outputs": [],
   "source": []
  }
 ],
 "metadata": {
  "kernelspec": {
   "display_name": "Python 3",
   "language": "python",
   "name": "python3"
  },
  "language_info": {
   "codemirror_mode": {
    "name": "ipython",
    "version": 3
   },
   "file_extension": ".py",
   "mimetype": "text/x-python",
   "name": "python",
   "nbconvert_exporter": "python",
   "pygments_lexer": "ipython3",
   "version": "3.8.5"
  }
 },
 "nbformat": 4,
 "nbformat_minor": 4
}
